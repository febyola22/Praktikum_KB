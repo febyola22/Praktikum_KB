{
 "cells": [
  {
   "cell_type": "markdown",
   "id": "f9ae517c-9bb0-46ed-9a1b-9548c9fe3710",
   "metadata": {},
   "source": [
    "## **POSTTEST 6**\n",
    "***"
   ]
  },
  {
   "cell_type": "markdown",
   "id": "f16cc8db-b9fc-4f8c-8019-2239dc2c23b3",
   "metadata": {},
   "source": [
    "**Import Library Yang Digunakan**"
   ]
  },
  {
   "cell_type": "code",
   "execution_count": 31,
   "id": "baceaa27-1124-4142-a2df-54a389b8cbf6",
   "metadata": {},
   "outputs": [],
   "source": [
    "import pandas as pd\n",
    "import numpy as np\n",
    "from sklearn.model_selection import train_test_split\n",
    "from sklearn.preprocessing import StandardScaler, LabelEncoder\n",
    "from sklearn.preprocessing import OneHotEncoder\n",
    "from tensorflow import keras\n",
    "import tensorflow as tf\n",
    "from tensorflow.keras import layers\n",
    "from tensorflow.keras.models import Sequential\n",
    "from tensorflow.keras.callbacks import EarlyStopping, ModelCheckpoint\n",
    "from sklearn.metrics import accuracy_score\n",
    "import matplotlib.pyplot as plt"
   ]
  },
  {
   "cell_type": "markdown",
   "id": "91924425-bc9a-4e4e-90d0-5c70a1e67f7f",
   "metadata": {},
   "source": [
    "**Menampilkan Dataset**"
   ]
  },
  {
   "cell_type": "code",
   "execution_count": 34,
   "id": "88a0c4b3-4e14-41dc-994e-ea5912507b3d",
   "metadata": {},
   "outputs": [
    {
     "data": {
      "text/html": [
       "<div>\n",
       "<style scoped>\n",
       "    .dataframe tbody tr th:only-of-type {\n",
       "        vertical-align: middle;\n",
       "    }\n",
       "\n",
       "    .dataframe tbody tr th {\n",
       "        vertical-align: top;\n",
       "    }\n",
       "\n",
       "    .dataframe thead th {\n",
       "        text-align: right;\n",
       "    }\n",
       "</style>\n",
       "<table border=\"1\" class=\"dataframe\">\n",
       "  <thead>\n",
       "    <tr style=\"text-align: right;\">\n",
       "      <th></th>\n",
       "      <th>gender</th>\n",
       "      <th>age</th>\n",
       "      <th>hypertension</th>\n",
       "      <th>heart_disease</th>\n",
       "      <th>ever_married</th>\n",
       "      <th>work_type</th>\n",
       "      <th>Residence_type</th>\n",
       "      <th>avg_glucose_level</th>\n",
       "      <th>bmi</th>\n",
       "      <th>smoking_status</th>\n",
       "      <th>stroke</th>\n",
       "    </tr>\n",
       "  </thead>\n",
       "  <tbody>\n",
       "    <tr>\n",
       "      <th>0</th>\n",
       "      <td>Male</td>\n",
       "      <td>67.0</td>\n",
       "      <td>0</td>\n",
       "      <td>1</td>\n",
       "      <td>Yes</td>\n",
       "      <td>Private</td>\n",
       "      <td>Urban</td>\n",
       "      <td>228.69</td>\n",
       "      <td>36.6</td>\n",
       "      <td>formerly smoked</td>\n",
       "      <td>1</td>\n",
       "    </tr>\n",
       "    <tr>\n",
       "      <th>1</th>\n",
       "      <td>Male</td>\n",
       "      <td>80.0</td>\n",
       "      <td>0</td>\n",
       "      <td>1</td>\n",
       "      <td>Yes</td>\n",
       "      <td>Private</td>\n",
       "      <td>Rural</td>\n",
       "      <td>105.92</td>\n",
       "      <td>32.5</td>\n",
       "      <td>never smoked</td>\n",
       "      <td>1</td>\n",
       "    </tr>\n",
       "    <tr>\n",
       "      <th>2</th>\n",
       "      <td>Female</td>\n",
       "      <td>49.0</td>\n",
       "      <td>0</td>\n",
       "      <td>0</td>\n",
       "      <td>Yes</td>\n",
       "      <td>Private</td>\n",
       "      <td>Urban</td>\n",
       "      <td>171.23</td>\n",
       "      <td>34.4</td>\n",
       "      <td>smokes</td>\n",
       "      <td>1</td>\n",
       "    </tr>\n",
       "    <tr>\n",
       "      <th>3</th>\n",
       "      <td>Female</td>\n",
       "      <td>79.0</td>\n",
       "      <td>1</td>\n",
       "      <td>0</td>\n",
       "      <td>Yes</td>\n",
       "      <td>Self-employed</td>\n",
       "      <td>Rural</td>\n",
       "      <td>174.12</td>\n",
       "      <td>24.0</td>\n",
       "      <td>never smoked</td>\n",
       "      <td>1</td>\n",
       "    </tr>\n",
       "    <tr>\n",
       "      <th>4</th>\n",
       "      <td>Male</td>\n",
       "      <td>81.0</td>\n",
       "      <td>0</td>\n",
       "      <td>0</td>\n",
       "      <td>Yes</td>\n",
       "      <td>Private</td>\n",
       "      <td>Urban</td>\n",
       "      <td>186.21</td>\n",
       "      <td>29.0</td>\n",
       "      <td>formerly smoked</td>\n",
       "      <td>1</td>\n",
       "    </tr>\n",
       "    <tr>\n",
       "      <th>...</th>\n",
       "      <td>...</td>\n",
       "      <td>...</td>\n",
       "      <td>...</td>\n",
       "      <td>...</td>\n",
       "      <td>...</td>\n",
       "      <td>...</td>\n",
       "      <td>...</td>\n",
       "      <td>...</td>\n",
       "      <td>...</td>\n",
       "      <td>...</td>\n",
       "      <td>...</td>\n",
       "    </tr>\n",
       "    <tr>\n",
       "      <th>4976</th>\n",
       "      <td>Male</td>\n",
       "      <td>41.0</td>\n",
       "      <td>0</td>\n",
       "      <td>0</td>\n",
       "      <td>No</td>\n",
       "      <td>Private</td>\n",
       "      <td>Rural</td>\n",
       "      <td>70.15</td>\n",
       "      <td>29.8</td>\n",
       "      <td>formerly smoked</td>\n",
       "      <td>0</td>\n",
       "    </tr>\n",
       "    <tr>\n",
       "      <th>4977</th>\n",
       "      <td>Male</td>\n",
       "      <td>40.0</td>\n",
       "      <td>0</td>\n",
       "      <td>0</td>\n",
       "      <td>Yes</td>\n",
       "      <td>Private</td>\n",
       "      <td>Urban</td>\n",
       "      <td>191.15</td>\n",
       "      <td>31.1</td>\n",
       "      <td>smokes</td>\n",
       "      <td>0</td>\n",
       "    </tr>\n",
       "    <tr>\n",
       "      <th>4978</th>\n",
       "      <td>Female</td>\n",
       "      <td>45.0</td>\n",
       "      <td>1</td>\n",
       "      <td>0</td>\n",
       "      <td>Yes</td>\n",
       "      <td>Govt_job</td>\n",
       "      <td>Rural</td>\n",
       "      <td>95.02</td>\n",
       "      <td>31.8</td>\n",
       "      <td>smokes</td>\n",
       "      <td>0</td>\n",
       "    </tr>\n",
       "    <tr>\n",
       "      <th>4979</th>\n",
       "      <td>Male</td>\n",
       "      <td>40.0</td>\n",
       "      <td>0</td>\n",
       "      <td>0</td>\n",
       "      <td>Yes</td>\n",
       "      <td>Private</td>\n",
       "      <td>Rural</td>\n",
       "      <td>83.94</td>\n",
       "      <td>30.0</td>\n",
       "      <td>smokes</td>\n",
       "      <td>0</td>\n",
       "    </tr>\n",
       "    <tr>\n",
       "      <th>4980</th>\n",
       "      <td>Female</td>\n",
       "      <td>80.0</td>\n",
       "      <td>1</td>\n",
       "      <td>0</td>\n",
       "      <td>Yes</td>\n",
       "      <td>Private</td>\n",
       "      <td>Urban</td>\n",
       "      <td>83.75</td>\n",
       "      <td>29.1</td>\n",
       "      <td>never smoked</td>\n",
       "      <td>0</td>\n",
       "    </tr>\n",
       "  </tbody>\n",
       "</table>\n",
       "<p>4981 rows × 11 columns</p>\n",
       "</div>"
      ],
      "text/plain": [
       "      gender   age  hypertension  heart_disease ever_married      work_type  \\\n",
       "0       Male  67.0             0              1          Yes        Private   \n",
       "1       Male  80.0             0              1          Yes        Private   \n",
       "2     Female  49.0             0              0          Yes        Private   \n",
       "3     Female  79.0             1              0          Yes  Self-employed   \n",
       "4       Male  81.0             0              0          Yes        Private   \n",
       "...      ...   ...           ...            ...          ...            ...   \n",
       "4976    Male  41.0             0              0           No        Private   \n",
       "4977    Male  40.0             0              0          Yes        Private   \n",
       "4978  Female  45.0             1              0          Yes       Govt_job   \n",
       "4979    Male  40.0             0              0          Yes        Private   \n",
       "4980  Female  80.0             1              0          Yes        Private   \n",
       "\n",
       "     Residence_type  avg_glucose_level   bmi   smoking_status  stroke  \n",
       "0             Urban             228.69  36.6  formerly smoked       1  \n",
       "1             Rural             105.92  32.5     never smoked       1  \n",
       "2             Urban             171.23  34.4           smokes       1  \n",
       "3             Rural             174.12  24.0     never smoked       1  \n",
       "4             Urban             186.21  29.0  formerly smoked       1  \n",
       "...             ...                ...   ...              ...     ...  \n",
       "4976          Rural              70.15  29.8  formerly smoked       0  \n",
       "4977          Urban             191.15  31.1           smokes       0  \n",
       "4978          Rural              95.02  31.8           smokes       0  \n",
       "4979          Rural              83.94  30.0           smokes       0  \n",
       "4980          Urban              83.75  29.1     never smoked       0  \n",
       "\n",
       "[4981 rows x 11 columns]"
      ]
     },
     "execution_count": 34,
     "metadata": {},
     "output_type": "execute_result"
    }
   ],
   "source": [
    "df = pd.read_csv('brain_stroke.csv', delimiter=',')\n",
    "df"
   ]
  },
  {
   "cell_type": "markdown",
   "id": "4e0afcd1-70be-4141-b9a0-a34447706921",
   "metadata": {},
   "source": [
    "### **SPLIT DATASET**\n",
    "***"
   ]
  },
  {
   "cell_type": "code",
   "execution_count": 11,
   "id": "0e1665f3-0019-42b6-a2c0-80673b8b56cf",
   "metadata": {},
   "outputs": [],
   "source": [
    "X = df.iloc[:,:-1] \n",
    "y = df.iloc[:,-1]"
   ]
  },
  {
   "cell_type": "markdown",
   "id": "b28ebd5e-0619-4c63-b280-2adf71dcbddf",
   "metadata": {},
   "source": [
    "**Encoding Target**"
   ]
  },
  {
   "cell_type": "code",
   "execution_count": 39,
   "id": "e176c504-660e-40c1-b393-1aeaa663b966",
   "metadata": {},
   "outputs": [],
   "source": [
    "LE = LabelEncoder()\n",
    "df['stroke'] = le.fit_transform(df['stroke'])"
   ]
  },
  {
   "cell_type": "code",
   "execution_count": 40,
   "id": "31e02f4a-b5c6-4f4e-82d0-b9f787883529",
   "metadata": {},
   "outputs": [],
   "source": [
    "X_train, X_test, y_train, y_test = train_test_split(X, y, test_size = 0.2, random_state = 42)"
   ]
  },
  {
   "cell_type": "markdown",
   "id": "a64cd042-8899-4f46-987d-e675432b474d",
   "metadata": {},
   "source": [
    "**Memisahkan Kolom Numerik dan Kategorikal**"
   ]
  },
  {
   "cell_type": "code",
   "execution_count": 16,
   "id": "96215a7b-0408-429a-80b1-88de283c3191",
   "metadata": {},
   "outputs": [],
   "source": [
    "numeric_cols = [col for col in X_train.columns if X_train[col].dtype != 'object']\n",
    "categorical_cols = [col for col in X_train.columns if X_train[col].dtype == 'object']"
   ]
  },
  {
   "cell_type": "markdown",
   "id": "4396dbbc-69da-4781-ba8e-497ecb562cc0",
   "metadata": {},
   "source": [
    "**Menggunakan OneHotEncoder Untuk Kolom Kategorikal**"
   ]
  },
  {
   "cell_type": "code",
   "execution_count": 18,
   "id": "3bd6bbe6-b374-4ae6-a1ca-6eac935dcb28",
   "metadata": {},
   "outputs": [],
   "source": [
    "encoder = OneHotEncoder(sparse_output = False, handle_unknown = 'ignore')"
   ]
  },
  {
   "cell_type": "code",
   "execution_count": 19,
   "id": "16011aaa-5f9a-4ac8-a354-5cac7abb2652",
   "metadata": {},
   "outputs": [],
   "source": [
    "X_train_encoded = encoder.fit_transform(X_train[categorical_cols])\n",
    "X_test_encoded = encoder.transform(X_test[categorical_cols])"
   ]
  },
  {
   "cell_type": "markdown",
   "id": "12bae8e5-1e22-48b2-a3aa-b09cac153c17",
   "metadata": {},
   "source": [
    "**Konversi Dataset Menjadi Float32**"
   ]
  },
  {
   "cell_type": "code",
   "execution_count": 20,
   "id": "f8fa056e-b262-4f22-897f-9d6e173bbc05",
   "metadata": {},
   "outputs": [],
   "source": [
    "X_train[numeric_cols] = X_train[numeric_cols].astype('float32')\n",
    "X_test[numeric_cols] = X_test[numeric_cols].astype('float32')\n",
    "y_train = y_train.astype('float32')\n",
    "y_test = y_test.astype('float32')"
   ]
  },
  {
   "cell_type": "markdown",
   "id": "eb7c4a2c-6b32-4e6f-b067-79b1e7a8e677",
   "metadata": {},
   "source": [
    "### **Model Squential**\n",
    "***"
   ]
  },
  {
   "cell_type": "markdown",
   "id": "10880d3e-b2fd-4c5e-9ee1-df9087518741",
   "metadata": {},
   "source": [
    "**Membuat Model Sequential**"
   ]
  },
  {
   "cell_type": "code",
   "execution_count": 35,
   "id": "a0eacfd3-9bb2-4e96-b1f0-3fc14b82822c",
   "metadata": {},
   "outputs": [
    {
     "name": "stdout",
     "output_type": "stream",
     "text": [
      "Model: \"sequential_5\"\n",
      "_________________________________________________________________\n",
      " Layer (type)                Output Shape              Param #   \n",
      "=================================================================\n",
      " dense_9 (Dense)             (None, 64)                704       \n",
      "                                                                 \n",
      " dense_10 (Dense)            (None, 32)                2080      \n",
      "                                                                 \n",
      " dense_11 (Dense)            (None, 1)                 33        \n",
      "                                                                 \n",
      "=================================================================\n",
      "Total params: 2817 (11.00 KB)\n",
      "Trainable params: 2817 (11.00 KB)\n",
      "Non-trainable params: 0 (0.00 Byte)\n",
      "_________________________________________________________________\n"
     ]
    }
   ],
   "source": [
    "model = Sequential()\n",
    "model.add(layers.Dense(64, activation='relu', input_dim=X_train.shape[1]))\n",
    "model.add(layers.Dense(32, activation='relu'))\n",
    "model.add(layers.Dense(1, activation='sigmoid'))\n",
    "model.summary()"
   ]
  },
  {
   "cell_type": "code",
   "execution_count": 37,
   "id": "e714602a-2af8-43b6-b35f-9df1afc0fd48",
   "metadata": {},
   "outputs": [],
   "source": [
    "model.compile(optimizer='adam', loss='binary_crossentropy', metrics=['accuracy'])"
   ]
  },
  {
   "cell_type": "markdown",
   "id": "52489ec4-f2fb-47ed-9621-1f625a959200",
   "metadata": {},
   "source": [
    "### **Menggunakan Callbacks**\n",
    "***"
   ]
  },
  {
   "cell_type": "code",
   "execution_count": 42,
   "id": "4a532205-42fd-42eb-918b-f5e1cc45a61f",
   "metadata": {},
   "outputs": [],
   "source": [
    "class MyCallback(tf.keras.callbacks.Callback):\n",
    "    def on_epoch_end(self, epoch, logs={}):\n",
    "        if(logs.get('accuracy') > 0.93 and logs.get('val_accuracy') > 0.93):\n",
    "            self.model.stop_training = True"
   ]
  },
  {
   "cell_type": "markdown",
   "id": "a46d0430-8929-4df8-afed-effa0b98c84b",
   "metadata": {},
   "source": [
    "### **Pelatihan Model**\n",
    "***"
   ]
  },
  {
   "cell_type": "code",
   "execution_count": 52,
   "id": "9a05708e-d987-40db-96a3-f34b0124c31d",
   "metadata": {},
   "outputs": [
    {
     "name": "stdout",
     "output_type": "stream",
     "text": [
      "Epoch 1/20\n",
      "63/63 [==============================] - 0s 6ms/step - loss: 5.6638 - accuracy: 0.5778 - val_loss: 5.6883 - val_accuracy: 0.5747\n",
      "Epoch 2/20\n",
      "63/63 [==============================] - 0s 4ms/step - loss: 5.6638 - accuracy: 0.5778 - val_loss: 5.6883 - val_accuracy: 0.5747\n",
      "Epoch 3/20\n",
      "63/63 [==============================] - 0s 4ms/step - loss: 5.6638 - accuracy: 0.5778 - val_loss: 5.6883 - val_accuracy: 0.5747\n",
      "Epoch 4/20\n",
      "63/63 [==============================] - 0s 4ms/step - loss: 5.6638 - accuracy: 0.5778 - val_loss: 5.6883 - val_accuracy: 0.5747\n",
      "Epoch 5/20\n",
      "63/63 [==============================] - 0s 4ms/step - loss: 5.6638 - accuracy: 0.5778 - val_loss: 5.6883 - val_accuracy: 0.5747\n",
      "Epoch 6/20\n",
      "63/63 [==============================] - 0s 4ms/step - loss: 5.6638 - accuracy: 0.5778 - val_loss: 5.6883 - val_accuracy: 0.5747\n",
      "Epoch 7/20\n",
      "63/63 [==============================] - 0s 3ms/step - loss: 5.6638 - accuracy: 0.5778 - val_loss: 5.6883 - val_accuracy: 0.5747\n",
      "Epoch 8/20\n",
      "63/63 [==============================] - 0s 3ms/step - loss: 5.6638 - accuracy: 0.5778 - val_loss: 5.6883 - val_accuracy: 0.5747\n",
      "Epoch 9/20\n",
      "63/63 [==============================] - 0s 3ms/step - loss: 5.6638 - accuracy: 0.5778 - val_loss: 5.6883 - val_accuracy: 0.5747\n",
      "Epoch 10/20\n",
      "63/63 [==============================] - 0s 3ms/step - loss: 5.6638 - accuracy: 0.5778 - val_loss: 5.6883 - val_accuracy: 0.5747\n",
      "Epoch 11/20\n",
      "63/63 [==============================] - 0s 3ms/step - loss: 5.6638 - accuracy: 0.5778 - val_loss: 5.6883 - val_accuracy: 0.5747\n",
      "Epoch 12/20\n",
      "63/63 [==============================] - 0s 3ms/step - loss: 5.6638 - accuracy: 0.5778 - val_loss: 5.6883 - val_accuracy: 0.5747\n",
      "Epoch 13/20\n",
      "63/63 [==============================] - 0s 3ms/step - loss: 5.6638 - accuracy: 0.5778 - val_loss: 5.6883 - val_accuracy: 0.5747\n",
      "Epoch 14/20\n",
      "63/63 [==============================] - 0s 3ms/step - loss: 5.6638 - accuracy: 0.5778 - val_loss: 5.6883 - val_accuracy: 0.5747\n",
      "Epoch 15/20\n",
      "63/63 [==============================] - 0s 4ms/step - loss: 5.6638 - accuracy: 0.5778 - val_loss: 5.6883 - val_accuracy: 0.5747\n",
      "Epoch 16/20\n",
      "63/63 [==============================] - 0s 3ms/step - loss: 5.6638 - accuracy: 0.5778 - val_loss: 5.6883 - val_accuracy: 0.5747\n",
      "Epoch 17/20\n",
      "63/63 [==============================] - 0s 3ms/step - loss: 5.6638 - accuracy: 0.5778 - val_loss: 5.6883 - val_accuracy: 0.5747\n",
      "Epoch 18/20\n",
      "63/63 [==============================] - 0s 3ms/step - loss: 5.6638 - accuracy: 0.5778 - val_loss: 5.6883 - val_accuracy: 0.5747\n",
      "Epoch 19/20\n",
      "63/63 [==============================] - 0s 3ms/step - loss: 5.6638 - accuracy: 0.5778 - val_loss: 5.6883 - val_accuracy: 0.5747\n",
      "Epoch 20/20\n",
      "63/63 [==============================] - 0s 3ms/step - loss: 5.6638 - accuracy: 0.5778 - val_loss: 5.6883 - val_accuracy: 0.5747\n"
     ]
    }
   ],
   "source": [
    "call = MyCallback()\n",
    "history = model.fit(\n",
    "    X_train_encoded,\n",
    "    y_train,\n",
    "    epochs=20,\n",
    "    batch_size = 64,\n",
    "    validation_data=(X_test_encoded, y_test),\n",
    "    callbacks=[call]\n",
    ")"
   ]
  },
  {
   "cell_type": "markdown",
   "id": "7d29b2db-4a2e-4f83-b6f7-0ddbc13f00ca",
   "metadata": {},
   "source": [
    "### **Evaluasi Model**\n",
    "***"
   ]
  },
  {
   "cell_type": "code",
   "execution_count": 53,
   "id": "5356f15b-c85c-45cc-a509-38c8c99a1951",
   "metadata": {},
   "outputs": [
    {
     "name": "stdout",
     "output_type": "stream",
     "text": [
      "32/32 [==============================] - 0s 3ms/step - loss: 5.6883 - accuracy: 0.5747\n",
      "Test loss     : 5.688257217407227\n",
      "Test accuracy : 0.5747241973876953\n"
     ]
    }
   ],
   "source": [
    "score = model.evaluate(X_test_encoded, y_test, verbose=1)\n",
    "print('Test loss     :', score[0])\n",
    "print('Test accuracy :', score[1])"
   ]
  },
  {
   "cell_type": "markdown",
   "id": "5a0faf88-6bee-4d12-ba6c-d0b435f41c6b",
   "metadata": {},
   "source": [
    "### **Grafik Perbandingan Accuracy dan Loss dari Train dan Test**\n",
    "***"
   ]
  },
  {
   "cell_type": "code",
   "execution_count": 54,
   "id": "bc53cdc1-b0c6-46ca-a7a9-d1edae94caa8",
   "metadata": {},
   "outputs": [
    {
     "data": {
      "image/png": "[encoded data removed]",
      "text/plain": [
       "<Figure size 1200x400 with 2 Axes>"
      ]
     },
     "metadata": {},
     "output_type": "display_data"
    }
   ],
   "source": [
    "plt.figure(figsize=(12, 4))\n",
    "plt.subplot(1, 2, 1)\n",
    "plt.plot(history.history['accuracy'], label='Train Accuracy')\n",
    "plt.plot(history.history['val_accuracy'], label='Validation Accuracy')\n",
    "plt.legend()\n",
    "plt.title('Validation Accuracy')\n",
    "\n",
    "plt.subplot(1, 2, 2)\n",
    "plt.plot(history.history['loss'], label='Train Loss')\n",
    "plt.plot(history.history['val_loss'], label='Validation Loss')\n",
    "plt.legend()\n",
    "plt.title('Validation Loss')\n",
    "\n",
    "plt.tight_layout()\n",
    "plt.show()"
   ]
  },
  {
   "cell_type": "code",
   "execution_count": null,
   "id": "c8c3867b-52c4-44f1-b17d-d51694977933",
   "metadata": {},
   "outputs": [],
   "source": []
  }
 ],
 "metadata": {
  "kernelspec": {
   "display_name": "feby_137",
   "language": "python",
   "name": "feby_137"
  },
  "language_info": {
   "codemirror_mode": {
    "name": "ipython",
    "version": 3
   },
   "file_extension": ".py",
   "mimetype": "text/x-python",
   "name": "python",
   "nbconvert_exporter": "python",
   "pygments_lexer": "ipython3",
   "version": "3.10.7"
  }
 },
 "nbformat": 4,
 "nbformat_minor": 5
}
