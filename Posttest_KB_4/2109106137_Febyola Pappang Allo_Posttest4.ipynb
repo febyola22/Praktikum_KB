{
 "cells": [
  {
   "cell_type": "markdown",
   "id": "6a9b03e9-7166-4649-9c3e-43b19e23da1b",
   "metadata": {},
   "source": [
    "## POSTTEST 4\n",
    "**Data Preprocessing**\n",
    "***"
   ]
  },
  {
   "cell_type": "markdown",
   "id": "1e8a99cd-fd0c-4b1a-af29-486dbdd79ab6",
   "metadata": {},
   "source": [
    "**Import library data preprocessing, seperti pandas, numpy, dan sci-ki learn, kemudian import dataset**"
   ]
  },
  {
   "cell_type": "code",
   "execution_count": 3,
   "id": "14eb4b26-5a29-4477-bfc2-c1ec96b8740a",
   "metadata": {},
   "outputs": [],
   "source": [
    "import matplotlib.pyplot as plt\n",
    "import pandas as pd\n",
    "import seaborn as sns\n",
    "from sklearn.model_selection import train_test_split\n",
    "from sklearn.preprocessing import MinMaxScaler, StandardScaler, OneHotEncoder\n",
    "from sklearn.impute import SimpleImputer"
   ]
  },
  {
   "cell_type": "code",
   "execution_count": 4,
   "id": "286c7b7b-ac6c-47f0-89de-3e6707fb939a",
   "metadata": {},
   "outputs": [
    {
     "data": {
      "text/html": [
       "<div>\n",
       "<style scoped>\n",
       "    .dataframe tbody tr th:only-of-type {\n",
       "        vertical-align: middle;\n",
       "    }\n",
       "\n",
       "    .dataframe tbody tr th {\n",
       "        vertical-align: top;\n",
       "    }\n",
       "\n",
       "    .dataframe thead th {\n",
       "        text-align: right;\n",
       "    }\n",
       "</style>\n",
       "<table border=\"1\" class=\"dataframe\">\n",
       "  <thead>\n",
       "    <tr style=\"text-align: right;\">\n",
       "      <th></th>\n",
       "      <th>Unnamed: 0</th>\n",
       "      <th>title</th>\n",
       "      <th>rating</th>\n",
       "      <th>name</th>\n",
       "      <th>num_ratings</th>\n",
       "      <th>num_reviews</th>\n",
       "      <th>num_followers</th>\n",
       "      <th>synopsis</th>\n",
       "      <th>genre</th>\n",
       "    </tr>\n",
       "  </thead>\n",
       "  <tbody>\n",
       "    <tr>\n",
       "      <th>0</th>\n",
       "      <td>0</td>\n",
       "      <td>Sapiens: A Brief History of Humankind</td>\n",
       "      <td>4.39</td>\n",
       "      <td>Yuval Noah Harari</td>\n",
       "      <td>8,06,229</td>\n",
       "      <td>46,149</td>\n",
       "      <td>30.5k</td>\n",
       "      <td>100,000 years ago, at least six human species ...</td>\n",
       "      <td>history</td>\n",
       "    </tr>\n",
       "    <tr>\n",
       "      <th>1</th>\n",
       "      <td>1</td>\n",
       "      <td>Guns, Germs, and Steel: The Fates of Human Soc...</td>\n",
       "      <td>4.04</td>\n",
       "      <td>Jared Diamond</td>\n",
       "      <td>3,67,056</td>\n",
       "      <td>12,879</td>\n",
       "      <td>6,538</td>\n",
       "      <td>\"Diamond has written a book of remarkable scop...</td>\n",
       "      <td>history</td>\n",
       "    </tr>\n",
       "    <tr>\n",
       "      <th>2</th>\n",
       "      <td>2</td>\n",
       "      <td>A People's History of the United States</td>\n",
       "      <td>4.07</td>\n",
       "      <td>Howard Zinn</td>\n",
       "      <td>2,24,620</td>\n",
       "      <td>6,509</td>\n",
       "      <td>2,354</td>\n",
       "      <td>In the book, Zinn presented a different side o...</td>\n",
       "      <td>history</td>\n",
       "    </tr>\n",
       "    <tr>\n",
       "      <th>3</th>\n",
       "      <td>3</td>\n",
       "      <td>The Devil in the White City: Murder, Magic, an...</td>\n",
       "      <td>3.99</td>\n",
       "      <td>Erik Larson</td>\n",
       "      <td>6,13,157</td>\n",
       "      <td>36,644</td>\n",
       "      <td>64.2k</td>\n",
       "      <td>Author Erik Larson imbues the incredible event...</td>\n",
       "      <td>history</td>\n",
       "    </tr>\n",
       "    <tr>\n",
       "      <th>4</th>\n",
       "      <td>4</td>\n",
       "      <td>The Diary of a Young Girl</td>\n",
       "      <td>4.18</td>\n",
       "      <td>Anne Frank</td>\n",
       "      <td>33,13,033</td>\n",
       "      <td>35,591</td>\n",
       "      <td>4,621</td>\n",
       "      <td>Discovered in the attic in which she spent the...</td>\n",
       "      <td>history</td>\n",
       "    </tr>\n",
       "    <tr>\n",
       "      <th>...</th>\n",
       "      <td>...</td>\n",
       "      <td>...</td>\n",
       "      <td>...</td>\n",
       "      <td>...</td>\n",
       "      <td>...</td>\n",
       "      <td>...</td>\n",
       "      <td>...</td>\n",
       "      <td>...</td>\n",
       "      <td>...</td>\n",
       "    </tr>\n",
       "    <tr>\n",
       "      <th>1534</th>\n",
       "      <td>1534</td>\n",
       "      <td>Hounded</td>\n",
       "      <td>4.09</td>\n",
       "      <td>Kevin Hearne</td>\n",
       "      <td>83,827</td>\n",
       "      <td>7,203</td>\n",
       "      <td>11,905</td>\n",
       "      <td>Atticus O’Sullivan, last of the Druids, lives ...</td>\n",
       "      <td>fantasy</td>\n",
       "    </tr>\n",
       "    <tr>\n",
       "      <th>1535</th>\n",
       "      <td>1535</td>\n",
       "      <td>Charlie and the Chocolate Factory</td>\n",
       "      <td>4.15</td>\n",
       "      <td>Roald Dahl</td>\n",
       "      <td>7,75,001</td>\n",
       "      <td>14,252</td>\n",
       "      <td>22,897</td>\n",
       "      <td>Charlie Bucket's wonderful adventure begins wh...</td>\n",
       "      <td>fantasy</td>\n",
       "    </tr>\n",
       "    <tr>\n",
       "      <th>1536</th>\n",
       "      <td>1536</td>\n",
       "      <td>Red Rising</td>\n",
       "      <td>4.25</td>\n",
       "      <td>Pierce Brown</td>\n",
       "      <td>3,10,138</td>\n",
       "      <td>30,388</td>\n",
       "      <td>30,510</td>\n",
       "      <td>\"I live for the dream that my children will be...</td>\n",
       "      <td>fantasy</td>\n",
       "    </tr>\n",
       "    <tr>\n",
       "      <th>1537</th>\n",
       "      <td>1537</td>\n",
       "      <td>Frostbite</td>\n",
       "      <td>4.26</td>\n",
       "      <td>Richelle Mead</td>\n",
       "      <td>3,37,538</td>\n",
       "      <td>12,435</td>\n",
       "      <td>66,448</td>\n",
       "      <td>Rose loves Dimitri, Dimitri might love Tasha, ...</td>\n",
       "      <td>fantasy</td>\n",
       "    </tr>\n",
       "    <tr>\n",
       "      <th>1538</th>\n",
       "      <td>1538</td>\n",
       "      <td>Radiance</td>\n",
       "      <td>4.03</td>\n",
       "      <td>Grace Draven</td>\n",
       "      <td>50,102</td>\n",
       "      <td>5,550</td>\n",
       "      <td>6,090</td>\n",
       "      <td>The Prince of no value\\nBrishen Khaskem, princ...</td>\n",
       "      <td>fantasy</td>\n",
       "    </tr>\n",
       "  </tbody>\n",
       "</table>\n",
       "<p>1539 rows × 9 columns</p>\n",
       "</div>"
      ],
      "text/plain": [
       "      Unnamed: 0                                              title  rating  \\\n",
       "0              0              Sapiens: A Brief History of Humankind    4.39   \n",
       "1              1  Guns, Germs, and Steel: The Fates of Human Soc...    4.04   \n",
       "2              2            A People's History of the United States    4.07   \n",
       "3              3  The Devil in the White City: Murder, Magic, an...    3.99   \n",
       "4              4                          The Diary of a Young Girl    4.18   \n",
       "...          ...                                                ...     ...   \n",
       "1534        1534                                            Hounded    4.09   \n",
       "1535        1535                  Charlie and the Chocolate Factory    4.15   \n",
       "1536        1536                                         Red Rising    4.25   \n",
       "1537        1537                                          Frostbite    4.26   \n",
       "1538        1538                                           Radiance    4.03   \n",
       "\n",
       "                   name num_ratings num_reviews num_followers  \\\n",
       "0     Yuval Noah Harari    8,06,229      46,149         30.5k   \n",
       "1         Jared Diamond    3,67,056      12,879         6,538   \n",
       "2           Howard Zinn    2,24,620       6,509         2,354   \n",
       "3           Erik Larson    6,13,157      36,644         64.2k   \n",
       "4            Anne Frank   33,13,033      35,591         4,621   \n",
       "...                 ...         ...         ...           ...   \n",
       "1534       Kevin Hearne      83,827       7,203        11,905   \n",
       "1535         Roald Dahl    7,75,001      14,252        22,897   \n",
       "1536       Pierce Brown    3,10,138      30,388        30,510   \n",
       "1537      Richelle Mead    3,37,538      12,435        66,448   \n",
       "1538       Grace Draven      50,102       5,550         6,090   \n",
       "\n",
       "                                               synopsis    genre  \n",
       "0     100,000 years ago, at least six human species ...  history  \n",
       "1     \"Diamond has written a book of remarkable scop...  history  \n",
       "2     In the book, Zinn presented a different side o...  history  \n",
       "3     Author Erik Larson imbues the incredible event...  history  \n",
       "4     Discovered in the attic in which she spent the...  history  \n",
       "...                                                 ...      ...  \n",
       "1534  Atticus O’Sullivan, last of the Druids, lives ...  fantasy  \n",
       "1535  Charlie Bucket's wonderful adventure begins wh...  fantasy  \n",
       "1536  \"I live for the dream that my children will be...  fantasy  \n",
       "1537  Rose loves Dimitri, Dimitri might love Tasha, ...  fantasy  \n",
       "1538  The Prince of no value\\nBrishen Khaskem, princ...  fantasy  \n",
       "\n",
       "[1539 rows x 9 columns]"
      ]
     },
     "execution_count": 4,
     "metadata": {},
     "output_type": "execute_result"
    }
   ],
   "source": [
    "df = pd.read_csv(\"data.csv\")\n",
    "df"
   ]
  },
  {
   "cell_type": "markdown",
   "id": "c96bf03d-1b15-484e-bf40-1d5c4472eb35",
   "metadata": {},
   "source": [
    "**Info Data**"
   ]
  },
  {
   "cell_type": "code",
   "execution_count": 5,
   "id": "61e7ec58-8d9c-4214-ba82-c7cf7898843c",
   "metadata": {},
   "outputs": [
    {
     "name": "stdout",
     "output_type": "stream",
     "text": [
      "<class 'pandas.core.frame.DataFrame'>\n",
      "RangeIndex: 1539 entries, 0 to 1538\n",
      "Data columns (total 9 columns):\n",
      " #   Column         Non-Null Count  Dtype  \n",
      "---  ------         --------------  -----  \n",
      " 0   Unnamed: 0     1539 non-null   int64  \n",
      " 1   title          1539 non-null   object \n",
      " 2   rating         1539 non-null   float64\n",
      " 3   name           1539 non-null   object \n",
      " 4   num_ratings    1539 non-null   object \n",
      " 5   num_reviews    1539 non-null   object \n",
      " 6   num_followers  1539 non-null   object \n",
      " 7   synopsis       1539 non-null   object \n",
      " 8   genre          1539 non-null   object \n",
      "dtypes: float64(1), int64(1), object(7)\n",
      "memory usage: 108.3+ KB\n"
     ]
    }
   ],
   "source": [
    "df = pd.read_csv(\"data.csv\")\n",
    "df.info()"
   ]
  },
  {
   "cell_type": "code",
   "execution_count": 6,
   "id": "3037d3ab-cf3e-46db-9531-2ba2cc53f877",
   "metadata": {},
   "outputs": [
    {
     "data": {
      "text/plain": [
       "(1539, 9)"
      ]
     },
     "execution_count": 6,
     "metadata": {},
     "output_type": "execute_result"
    }
   ],
   "source": [
    "df.shape"
   ]
  },
  {
   "cell_type": "markdown",
   "id": "9139c639-52d1-4d10-bc91-d00c68305f94",
   "metadata": {},
   "source": [
    "***1. Membagi Dataset Menjadi Training Set dan Testing Set Dengan Proporsi 70:30***\n",
    "***"
   ]
  },
  {
   "cell_type": "code",
   "execution_count": 7,
   "id": "fac04b9e-5d53-482c-8a84-547b43f9649e",
   "metadata": {},
   "outputs": [
    {
     "name": "stdout",
     "output_type": "stream",
     "text": [
      "Dimensi X_train (1077, 8)\n",
      "Dimensi X_test (462, 8)\n",
      "Dimensi y_train (1077,)\n",
      "Dimensi y_test (462,)\n"
     ]
    }
   ],
   "source": [
    "X = df.iloc[:, : -1]\n",
    "y = df.iloc[:, -1]\n",
    "\n",
    "X_train, X_test, y_train, y_test = train_test_split(X, y, test_size=0.3)\n",
    "\n",
    "print(\"Dimensi X_train\", X_train.shape)\n",
    "print(\"Dimensi X_test\", X_test.shape)\n",
    "print(\"Dimensi y_train\", y_train.shape)\n",
    "print(\"Dimensi y_test\", y_test.shape)"
   ]
  },
  {
   "cell_type": "markdown",
   "id": "1c26e31b-f918-4d9d-9885-f343e4899fab",
   "metadata": {},
   "source": [
    "***2. Melakukan Normalisasi Data Pada Salah Satu Attribute Menggunakan MinMax Scaler, Namun Harus Copy Dataset Terlebih Dahulu***\n",
    "***"
   ]
  },
  {
   "cell_type": "code",
   "execution_count": 8,
   "id": "720be4f4-6588-4dcb-bd76-45e86168b41d",
   "metadata": {},
   "outputs": [
    {
     "name": "stdout",
     "output_type": "stream",
     "text": [
      "\n",
      "Data Sebelum dan Sesudah Melakukan normalisasi : \n",
      "\n"
     ]
    },
    {
     "data": {
      "text/html": [
       "<div>\n",
       "<style scoped>\n",
       "    .dataframe tbody tr th:only-of-type {\n",
       "        vertical-align: middle;\n",
       "    }\n",
       "\n",
       "    .dataframe tbody tr th {\n",
       "        vertical-align: top;\n",
       "    }\n",
       "\n",
       "    .dataframe thead th {\n",
       "        text-align: right;\n",
       "    }\n",
       "</style>\n",
       "<table border=\"1\" class=\"dataframe\">\n",
       "  <thead>\n",
       "    <tr style=\"text-align: right;\">\n",
       "      <th></th>\n",
       "      <th>rating</th>\n",
       "      <th>rating_normalisasi</th>\n",
       "    </tr>\n",
       "  </thead>\n",
       "  <tbody>\n",
       "    <tr>\n",
       "      <th>0</th>\n",
       "      <td>4.39</td>\n",
       "      <td>0.817259</td>\n",
       "    </tr>\n",
       "    <tr>\n",
       "      <th>1</th>\n",
       "      <td>4.04</td>\n",
       "      <td>0.639594</td>\n",
       "    </tr>\n",
       "    <tr>\n",
       "      <th>2</th>\n",
       "      <td>4.07</td>\n",
       "      <td>0.654822</td>\n",
       "    </tr>\n",
       "    <tr>\n",
       "      <th>3</th>\n",
       "      <td>3.99</td>\n",
       "      <td>0.614213</td>\n",
       "    </tr>\n",
       "    <tr>\n",
       "      <th>4</th>\n",
       "      <td>4.18</td>\n",
       "      <td>0.710660</td>\n",
       "    </tr>\n",
       "    <tr>\n",
       "      <th>5</th>\n",
       "      <td>4.08</td>\n",
       "      <td>0.659898</td>\n",
       "    </tr>\n",
       "    <tr>\n",
       "      <th>6</th>\n",
       "      <td>4.20</td>\n",
       "      <td>0.720812</td>\n",
       "    </tr>\n",
       "    <tr>\n",
       "      <th>7</th>\n",
       "      <td>4.18</td>\n",
       "      <td>0.710660</td>\n",
       "    </tr>\n",
       "    <tr>\n",
       "      <th>8</th>\n",
       "      <td>4.03</td>\n",
       "      <td>0.634518</td>\n",
       "    </tr>\n",
       "    <tr>\n",
       "      <th>9</th>\n",
       "      <td>4.03</td>\n",
       "      <td>0.634518</td>\n",
       "    </tr>\n",
       "  </tbody>\n",
       "</table>\n",
       "</div>"
      ],
      "text/plain": [
       "   rating  rating_normalisasi\n",
       "0    4.39            0.817259\n",
       "1    4.04            0.639594\n",
       "2    4.07            0.654822\n",
       "3    3.99            0.614213\n",
       "4    4.18            0.710660\n",
       "5    4.08            0.659898\n",
       "6    4.20            0.720812\n",
       "7    4.18            0.710660\n",
       "8    4.03            0.634518\n",
       "9    4.03            0.634518"
      ]
     },
     "execution_count": 8,
     "metadata": {},
     "output_type": "execute_result"
    }
   ],
   "source": [
    "from sklearn.preprocessing import MinMaxScaler, StandardScaler, OneHotEncoder\n",
    "\n",
    "min_max = MinMaxScaler()\n",
    "\n",
    "# Copy Data\n",
    "copy1 = df\n",
    "dataCopy_normalization = copy1[[\"rating\"]]\n",
    "\n",
    "normalization = min_max.fit_transform(dataCopy_normalization[[\"rating\"]])\n",
    "\n",
    "data_normalization = pd.DataFrame(normalization)\n",
    "data_normalization.columns =[\"rating_normalisasi\"]\n",
    "\n",
    "dataCopy_normalization = dataCopy_normalization.join(data_normalization[\"rating_normalisasi\"]).reset_index()\n",
    "dataCopy_normalization = dataCopy_normalization.drop(\"index\", axis=1)\n",
    "\n",
    "print()\n",
    "print(\"Data Sebelum dan Sesudah Melakukan normalisasi : \\n\")\n",
    "dataCopy_normalization.head(10)"
   ]
  },
  {
   "cell_type": "markdown",
   "id": "6b36605c-8644-4c12-8499-4df344fc4e96",
   "metadata": {},
   "source": [
    "***3. Melakukan Standarisasi Pada Dataset, Namun Membuat Copy Dataset Terlebih Dahulu***\n",
    "***"
   ]
  },
  {
   "cell_type": "code",
   "execution_count": 9,
   "id": "d09960b9-ba33-408c-94fa-cb087bb63ff3",
   "metadata": {},
   "outputs": [],
   "source": [
    "df_copy = df.copy()\n",
    "columns_to_scale = ['rating']\n",
    "\n",
    "scaler = StandardScaler()\n",
    "df_copy[columns_to_scale] = scaler.fit_transform(df_copy[columns_to_scale])"
   ]
  },
  {
   "cell_type": "code",
   "execution_count": 16,
   "id": "ff5a0681-5ec9-4953-b80f-67e1f6059f60",
   "metadata": {},
   "outputs": [
    {
     "name": "stdout",
     "output_type": "stream",
     "text": [
      "Data Sebelum Scaling:\n",
      "   rating\n",
      "0    4.39\n",
      "1    4.04\n",
      "2    4.07\n",
      "3    3.99\n",
      "4    4.18\n",
      "\n",
      "Data Sesudah Scaling:\n",
      "     rating\n",
      "0  1.560581\n",
      "1  0.010989\n",
      "2  0.143812\n",
      "3 -0.210381\n",
      "4  0.630826\n"
     ]
    }
   ],
   "source": [
    "print(\"Data Sebelum Scaling:\")\n",
    "print(df[columns_to_scale].head())\n",
    "\n",
    "print(\"\\nData Sesudah Scaling:\")\n",
    "print(df_copy[columns_to_scale].head())"
   ]
  },
  {
   "cell_type": "markdown",
   "id": "7a131a7b-2944-4f3b-87a4-60abff983a40",
   "metadata": {},
   "source": [
    "***3. Melakukan Data cleaning pada data dengan nilai null (jika tidak ada nilai null pada dataset, maka buatlah menjadi ada). Ganti nilai null sesuai ketentuan. (bilangan bulat : median/modus, bilangan desimal : mean, tulisan : modus)***\n",
    "***"
   ]
  },
  {
   "cell_type": "markdown",
   "id": "73bcdf79-cebb-470d-b981-803310fd34e7",
   "metadata": {},
   "source": [
    "**+ Mengecek Nilai Null**"
   ]
  },
  {
   "cell_type": "code",
   "execution_count": 18,
   "id": "b99eaf8d-890b-4766-85e7-448bbf41925c",
   "metadata": {},
   "outputs": [
    {
     "data": {
      "text/plain": [
       "Unnamed: 0       0\n",
       "title            0\n",
       "rating           0\n",
       "name             0\n",
       "num_ratings      0\n",
       "num_reviews      0\n",
       "num_followers    0\n",
       "synopsis         0\n",
       "genre            0\n",
       "dtype: int64"
      ]
     },
     "execution_count": 18,
     "metadata": {},
     "output_type": "execute_result"
    }
   ],
   "source": [
    "df.isnull().sum()"
   ]
  },
  {
   "cell_type": "markdown",
   "id": "3049a84c-746e-4111-a984-f9fb97aea640",
   "metadata": {},
   "source": [
    "**+ Mengubah Tipe Data**"
   ]
  },
  {
   "cell_type": "code",
   "execution_count": 34,
   "id": "0d347cf2-b897-40f4-a6a7-b0ee23dd1f9c",
   "metadata": {},
   "outputs": [
    {
     "name": "stdout",
     "output_type": "stream",
     "text": [
      "Tipe data Num_ratings Sebelum di ubah :\n"
     ]
    },
    {
     "data": {
      "text/plain": [
       "0        806229.0\n",
       "1        367056.0\n",
       "2        224620.0\n",
       "3        613157.0\n",
       "4       3313033.0\n",
       "          ...    \n",
       "1534      83827.0\n",
       "1535     775001.0\n",
       "1536     310138.0\n",
       "1537     337538.0\n",
       "1538      50102.0\n",
       "Name: num_ratings, Length: 1539, dtype: float64"
      ]
     },
     "execution_count": 34,
     "metadata": {},
     "output_type": "execute_result"
    }
   ],
   "source": [
    "print(\"Tipe data Num_ratings Sebelum di ubah :\")\n",
    "df.num_ratings"
   ]
  },
  {
   "cell_type": "code",
   "execution_count": 36,
   "id": "c3ada728-817c-4ba2-8041-74f6deefd587",
   "metadata": {},
   "outputs": [
    {
     "name": "stdout",
     "output_type": "stream",
     "text": [
      "Tipe data num_ratings sesudah di ubah :\n"
     ]
    },
    {
     "data": {
      "text/plain": [
       "0        806229\n",
       "1        367056\n",
       "2        224620\n",
       "3        613157\n",
       "4       3313033\n",
       "         ...   \n",
       "1534      83827\n",
       "1535     775001\n",
       "1536     310138\n",
       "1537     337538\n",
       "1538      50102\n",
       "Name: num_ratings, Length: 1539, dtype: int32"
      ]
     },
     "execution_count": 36,
     "metadata": {},
     "output_type": "execute_result"
    }
   ],
   "source": [
    "df['num_ratings'] = df['num_ratings'].astype('int32')\n",
    "\n",
    "print(\"Tipe data num_ratings sesudah di ubah :\")\n",
    "df.num_ratings"
   ]
  },
  {
   "cell_type": "code",
   "execution_count": 49,
   "id": "fac34ed8-9e8b-4ff1-98d3-5c9e756b5f1d",
   "metadata": {},
   "outputs": [
    {
     "name": "stdout",
     "output_type": "stream",
     "text": [
      "Tipe data Num_Reviews Sebelum di ubah :\n"
     ]
    },
    {
     "data": {
      "text/plain": [
       "0    46,149\n",
       "1    20,000\n",
       "2    35,700\n",
       "3    25,000\n",
       "4      <NA>\n",
       "Name: num_reviews, dtype: object"
      ]
     },
     "execution_count": 49,
     "metadata": {},
     "output_type": "execute_result"
    }
   ],
   "source": [
    "print(\"Tipe data Num_Reviews Sebelum di ubah :\")\n",
    "df.num_reviews"
   ]
  },
  {
   "cell_type": "markdown",
   "id": "4e470720-6307-4283-9f81-5c3836c743b7",
   "metadata": {},
   "source": [
    "**+ Membuat nilai null**"
   ]
  },
  {
   "cell_type": "code",
   "execution_count": 37,
   "id": "7010bd0d-f5e0-4623-9f9d-744039fdbbcd",
   "metadata": {},
   "outputs": [
    {
     "data": {
      "text/html": [
       "<div>\n",
       "<style scoped>\n",
       "    .dataframe tbody tr th:only-of-type {\n",
       "        vertical-align: middle;\n",
       "    }\n",
       "\n",
       "    .dataframe tbody tr th {\n",
       "        vertical-align: top;\n",
       "    }\n",
       "\n",
       "    .dataframe thead th {\n",
       "        text-align: right;\n",
       "    }\n",
       "</style>\n",
       "<table border=\"1\" class=\"dataframe\">\n",
       "  <thead>\n",
       "    <tr style=\"text-align: right;\">\n",
       "      <th></th>\n",
       "      <th>Unnamed: 0</th>\n",
       "      <th>title</th>\n",
       "      <th>rating</th>\n",
       "      <th>name</th>\n",
       "      <th>num_ratings</th>\n",
       "      <th>num_reviews</th>\n",
       "      <th>num_followers</th>\n",
       "      <th>synopsis</th>\n",
       "      <th>genre</th>\n",
       "    </tr>\n",
       "  </thead>\n",
       "  <tbody>\n",
       "    <tr>\n",
       "      <th>10</th>\n",
       "      <td>10</td>\n",
       "      <td>Team of Rivals: The Political Genius of Abraha...</td>\n",
       "      <td>4.26</td>\n",
       "      <td>Doris Kearns Goodwin</td>\n",
       "      <td>NaN</td>\n",
       "      <td>None</td>\n",
       "      <td>3,848</td>\n",
       "      <td>Winner of the Lincoln Prize\\n\\nAcclaimed histo...</td>\n",
       "      <td>None</td>\n",
       "    </tr>\n",
       "    <tr>\n",
       "      <th>100</th>\n",
       "      <td>100</td>\n",
       "      <td>The Institute</td>\n",
       "      <td>4.20</td>\n",
       "      <td>Stephen King</td>\n",
       "      <td>NaN</td>\n",
       "      <td>None</td>\n",
       "      <td>798,942 followers</td>\n",
       "      <td>In the middle of the night, in a house on a qu...</td>\n",
       "      <td>None</td>\n",
       "    </tr>\n",
       "    <tr>\n",
       "      <th>200</th>\n",
       "      <td>200</td>\n",
       "      <td>Quiet: The Power of Introverts in a World That...</td>\n",
       "      <td>4.07</td>\n",
       "      <td>Susan Cain</td>\n",
       "      <td>NaN</td>\n",
       "      <td>None</td>\n",
       "      <td>23.5k</td>\n",
       "      <td>The book that started the Quiet Revolution\\n\\n...</td>\n",
       "      <td>None</td>\n",
       "    </tr>\n",
       "    <tr>\n",
       "      <th>250</th>\n",
       "      <td>250</td>\n",
       "      <td>The Gift of Therapy: An Open Letter to a New G...</td>\n",
       "      <td>4.31</td>\n",
       "      <td>Irvin D. Yalom</td>\n",
       "      <td>NaN</td>\n",
       "      <td>None</td>\n",
       "      <td>7,180</td>\n",
       "      <td>Anyone interested in psychotherapy or personal...</td>\n",
       "      <td>None</td>\n",
       "    </tr>\n",
       "    <tr>\n",
       "      <th>450</th>\n",
       "      <td>450</td>\n",
       "      <td>The Ancestor's Tale: A Pilgrimage to the Dawn ...</td>\n",
       "      <td>4.14</td>\n",
       "      <td>Richard Dawkins</td>\n",
       "      <td>NaN</td>\n",
       "      <td>None</td>\n",
       "      <td>18.9k</td>\n",
       "      <td>The renowned biologist and thinker Richard Daw...</td>\n",
       "      <td>None</td>\n",
       "    </tr>\n",
       "    <tr>\n",
       "      <th>500</th>\n",
       "      <td>500</td>\n",
       "      <td>Stranger in a Strange Land</td>\n",
       "      <td>3.92</td>\n",
       "      <td>Robert A. Heinlein</td>\n",
       "      <td>NaN</td>\n",
       "      <td>None</td>\n",
       "      <td>8,672</td>\n",
       "      <td>NAME: Valentine Michael Smith\\nANCESTRY: Human...</td>\n",
       "      <td>None</td>\n",
       "    </tr>\n",
       "    <tr>\n",
       "      <th>550</th>\n",
       "      <td>550</td>\n",
       "      <td>The Friend Zone</td>\n",
       "      <td>4.15</td>\n",
       "      <td>Kristen Callihan</td>\n",
       "      <td>NaN</td>\n",
       "      <td>None</td>\n",
       "      <td>12,438</td>\n",
       "      <td>Gray doesn’t make friends with women. He has s...</td>\n",
       "      <td>None</td>\n",
       "    </tr>\n",
       "    <tr>\n",
       "      <th>750</th>\n",
       "      <td>750</td>\n",
       "      <td>I Hunt Killers</td>\n",
       "      <td>4.02</td>\n",
       "      <td>Barry Lyga</td>\n",
       "      <td>NaN</td>\n",
       "      <td>None</td>\n",
       "      <td>2,024</td>\n",
       "      <td>What if the world's worst serial killer...was ...</td>\n",
       "      <td>None</td>\n",
       "    </tr>\n",
       "    <tr>\n",
       "      <th>950</th>\n",
       "      <td>950</td>\n",
       "      <td>The Silent Corner</td>\n",
       "      <td>3.95</td>\n",
       "      <td>Dean Koontz</td>\n",
       "      <td>NaN</td>\n",
       "      <td>None</td>\n",
       "      <td>32,565</td>\n",
       "      <td>Meet Jane Hawk—a remarkable new heroine certai...</td>\n",
       "      <td>None</td>\n",
       "    </tr>\n",
       "    <tr>\n",
       "      <th>1100</th>\n",
       "      <td>1100</td>\n",
       "      <td>Into the Wild</td>\n",
       "      <td>4.00</td>\n",
       "      <td>Jon Krakauer</td>\n",
       "      <td>NaN</td>\n",
       "      <td>None</td>\n",
       "      <td>12.8k</td>\n",
       "      <td>Librarian's Note: An alternate cover edition c...</td>\n",
       "      <td>None</td>\n",
       "    </tr>\n",
       "  </tbody>\n",
       "</table>\n",
       "</div>"
      ],
      "text/plain": [
       "      Unnamed: 0                                              title  rating  \\\n",
       "10            10  Team of Rivals: The Political Genius of Abraha...    4.26   \n",
       "100          100                                      The Institute    4.20   \n",
       "200          200  Quiet: The Power of Introverts in a World That...    4.07   \n",
       "250          250  The Gift of Therapy: An Open Letter to a New G...    4.31   \n",
       "450          450  The Ancestor's Tale: A Pilgrimage to the Dawn ...    4.14   \n",
       "500          500                         Stranger in a Strange Land    3.92   \n",
       "550          550                                    The Friend Zone    4.15   \n",
       "750          750                                     I Hunt Killers    4.02   \n",
       "950          950                                  The Silent Corner    3.95   \n",
       "1100        1100                                      Into the Wild    4.00   \n",
       "\n",
       "                      name  num_ratings num_reviews      num_followers  \\\n",
       "10    Doris Kearns Goodwin          NaN        None              3,848   \n",
       "100           Stephen King          NaN        None  798,942 followers   \n",
       "200             Susan Cain          NaN        None              23.5k   \n",
       "250         Irvin D. Yalom          NaN        None              7,180   \n",
       "450        Richard Dawkins          NaN        None              18.9k   \n",
       "500     Robert A. Heinlein          NaN        None              8,672   \n",
       "550       Kristen Callihan          NaN        None             12,438   \n",
       "750             Barry Lyga          NaN        None              2,024   \n",
       "950            Dean Koontz          NaN        None             32,565   \n",
       "1100          Jon Krakauer          NaN        None              12.8k   \n",
       "\n",
       "                                               synopsis genre  \n",
       "10    Winner of the Lincoln Prize\\n\\nAcclaimed histo...  None  \n",
       "100   In the middle of the night, in a house on a qu...  None  \n",
       "200   The book that started the Quiet Revolution\\n\\n...  None  \n",
       "250   Anyone interested in psychotherapy or personal...  None  \n",
       "450   The renowned biologist and thinker Richard Daw...  None  \n",
       "500   NAME: Valentine Michael Smith\\nANCESTRY: Human...  None  \n",
       "550   Gray doesn’t make friends with women. He has s...  None  \n",
       "750   What if the world's worst serial killer...was ...  None  \n",
       "950   Meet Jane Hawk—a remarkable new heroine certai...  None  \n",
       "1100  Librarian's Note: An alternate cover edition c...  None  "
      ]
     },
     "execution_count": 37,
     "metadata": {},
     "output_type": "execute_result"
    }
   ],
   "source": [
    "# Untuk Menghilangkan SettingWithCopyWarning\n",
    "pd.options.mode.chained_assignment = None\n",
    "\n",
    "df.num_ratings[[10,500,100,200,250,450,500,550,750,950,1100]]=None;\n",
    "df.num_reviews[[10,500,100,200,250,450,500,550,750,950,1100]]=None;\n",
    "df.genre[[10,500,100,200,250,450,500,550,750,950,1100]]=None;\n",
    "\n",
    "df[df.isnull().any(axis=1)]"
   ]
  },
  {
   "cell_type": "markdown",
   "id": "f9c76626-e974-4535-91b6-8a0cec40dcbc",
   "metadata": {},
   "source": [
    "**+ Mengubah Nilai Null menggunakan strategi Median**"
   ]
  },
  {
   "cell_type": "code",
   "execution_count": 39,
   "id": "f367c097-69df-4de9-b54b-80d9d94140f2",
   "metadata": {},
   "outputs": [
    {
     "data": {
      "text/plain": [
       "Unnamed: 0        0\n",
       "title             0\n",
       "rating            0\n",
       "name              0\n",
       "num_ratings       0\n",
       "num_reviews      10\n",
       "num_followers     0\n",
       "synopsis          0\n",
       "genre            10\n",
       "dtype: int64"
      ]
     },
     "execution_count": 39,
     "metadata": {},
     "output_type": "execute_result"
    }
   ],
   "source": [
    "imputer1 = SimpleImputer(strategy=\"median\")\n",
    "df[\"num_ratings\"] = imputer1.fit_transform(df[[\"num_ratings\"]])\n",
    "df.isna().sum()"
   ]
  },
  {
   "cell_type": "code",
   "execution_count": 40,
   "id": "2d98c108-a429-4ad2-9117-5dd5b4a1ff64",
   "metadata": {},
   "outputs": [
    {
     "name": "stdout",
     "output_type": "stream",
     "text": [
      "10      81228.0\n",
      "500     81228.0\n",
      "100     81228.0\n",
      "200     81228.0\n",
      "250     81228.0\n",
      "450     81228.0\n",
      "500     81228.0\n",
      "550     81228.0\n",
      "750     81228.0\n",
      "950     81228.0\n",
      "1100    81228.0\n",
      "Name: num_ratings, dtype: float64\n"
     ]
    }
   ],
   "source": [
    "print(df.num_ratings[[10,500,100,200,250,450,500,550,750,950,1100]])"
   ]
  },
  {
   "cell_type": "markdown",
   "id": "3898978a-d151-4b9f-a6cd-86edefa092d6",
   "metadata": {},
   "source": [
    "**+ Mengubah Nilai Null Menggunakan Strategi Modus**"
   ]
  },
  {
   "cell_type": "code",
   "execution_count": 63,
   "id": "ad615eda-65da-4bf2-a49b-10447414a963",
   "metadata": {},
   "outputs": [
    {
     "data": {
      "text/plain": [
       "Unnamed: 0       0\n",
       "title            0\n",
       "rating           0\n",
       "name             0\n",
       "num_ratings      0\n",
       "num_reviews      0\n",
       "num_followers    0\n",
       "synopsis         0\n",
       "genre            0\n",
       "dtype: int64"
      ]
     },
     "execution_count": 63,
     "metadata": {},
     "output_type": "execute_result"
    }
   ],
   "source": [
    "strategi3 = SimpleImputer(missing_values=None, strategy=\"most_frequent\")\n",
    "\n",
    "df[\"genre\"] = strategi3.fit_transform(df[[\"genre\"]])\n",
    "\n",
    "df.isna().sum()"
   ]
  },
  {
   "cell_type": "markdown",
   "id": "b26cd7e0-6782-4547-bd7f-8f37a1b6c489",
   "metadata": {},
   "source": [
    "***3. Lakukan Data cleaning pada data dengan nilai duplikat***\n",
    "***"
   ]
  },
  {
   "cell_type": "code",
   "execution_count": 64,
   "id": "1c6077eb-0f90-47f0-a3d9-320454aa282c",
   "metadata": {},
   "outputs": [
    {
     "name": "stdout",
     "output_type": "stream",
     "text": [
      "Jumlah Data Duplikat : \n"
     ]
    },
    {
     "data": {
      "text/plain": [
       "0"
      ]
     },
     "execution_count": 64,
     "metadata": {},
     "output_type": "execute_result"
    }
   ],
   "source": [
    "df[df.duplicated()]\n",
    "\n",
    "print(\"Jumlah Data Duplikat : \")\n",
    "df.duplicated().sum()"
   ]
  },
  {
   "cell_type": "code",
   "execution_count": 65,
   "id": "4b05d0a5-4208-4283-9325-97989df8be41",
   "metadata": {},
   "outputs": [],
   "source": [
    "#duplikat manipulasi\n",
    "df.iloc[1,:] = df.iloc[0,:]"
   ]
  },
  {
   "cell_type": "code",
   "execution_count": 66,
   "id": "06251887-39be-4f70-9638-6f4c741fec9d",
   "metadata": {},
   "outputs": [
    {
     "data": {
      "text/plain": [
       "1"
      ]
     },
     "execution_count": 66,
     "metadata": {},
     "output_type": "execute_result"
    }
   ],
   "source": [
    "df.duplicated().sum()"
   ]
  },
  {
   "cell_type": "code",
   "execution_count": 67,
   "id": "6efb768a-689c-4e2d-901a-679d3b2daa20",
   "metadata": {},
   "outputs": [
    {
     "data": {
      "text/html": [
       "<div>\n",
       "<style scoped>\n",
       "    .dataframe tbody tr th:only-of-type {\n",
       "        vertical-align: middle;\n",
       "    }\n",
       "\n",
       "    .dataframe tbody tr th {\n",
       "        vertical-align: top;\n",
       "    }\n",
       "\n",
       "    .dataframe thead th {\n",
       "        text-align: right;\n",
       "    }\n",
       "</style>\n",
       "<table border=\"1\" class=\"dataframe\">\n",
       "  <thead>\n",
       "    <tr style=\"text-align: right;\">\n",
       "      <th></th>\n",
       "      <th>Unnamed: 0</th>\n",
       "      <th>title</th>\n",
       "      <th>rating</th>\n",
       "      <th>name</th>\n",
       "      <th>num_ratings</th>\n",
       "      <th>num_reviews</th>\n",
       "      <th>num_followers</th>\n",
       "      <th>synopsis</th>\n",
       "      <th>genre</th>\n",
       "    </tr>\n",
       "  </thead>\n",
       "  <tbody>\n",
       "    <tr>\n",
       "      <th>0</th>\n",
       "      <td>0</td>\n",
       "      <td>Sapiens: A Brief History of Humankind</td>\n",
       "      <td>4.39</td>\n",
       "      <td>Yuval Noah Harari</td>\n",
       "      <td>8,06,229</td>\n",
       "      <td>46,149</td>\n",
       "      <td>30.5k</td>\n",
       "      <td>100,000 years ago, at least six human species ...</td>\n",
       "      <td>history</td>\n",
       "    </tr>\n",
       "    <tr>\n",
       "      <th>1</th>\n",
       "      <td>0</td>\n",
       "      <td>Sapiens: A Brief History of Humankind</td>\n",
       "      <td>4.39</td>\n",
       "      <td>Yuval Noah Harari</td>\n",
       "      <td>8,06,229</td>\n",
       "      <td>46,149</td>\n",
       "      <td>30.5k</td>\n",
       "      <td>100,000 years ago, at least six human species ...</td>\n",
       "      <td>history</td>\n",
       "    </tr>\n",
       "    <tr>\n",
       "      <th>2</th>\n",
       "      <td>2</td>\n",
       "      <td>A People's History of the United States</td>\n",
       "      <td>4.07</td>\n",
       "      <td>Howard Zinn</td>\n",
       "      <td>2,24,620</td>\n",
       "      <td>6,509</td>\n",
       "      <td>2,354</td>\n",
       "      <td>In the book, Zinn presented a different side o...</td>\n",
       "      <td>history</td>\n",
       "    </tr>\n",
       "    <tr>\n",
       "      <th>3</th>\n",
       "      <td>3</td>\n",
       "      <td>The Devil in the White City: Murder, Magic, an...</td>\n",
       "      <td>3.99</td>\n",
       "      <td>Erik Larson</td>\n",
       "      <td>6,13,157</td>\n",
       "      <td>36,644</td>\n",
       "      <td>64.2k</td>\n",
       "      <td>Author Erik Larson imbues the incredible event...</td>\n",
       "      <td>history</td>\n",
       "    </tr>\n",
       "    <tr>\n",
       "      <th>4</th>\n",
       "      <td>4</td>\n",
       "      <td>The Diary of a Young Girl</td>\n",
       "      <td>4.18</td>\n",
       "      <td>Anne Frank</td>\n",
       "      <td>33,13,033</td>\n",
       "      <td>35,591</td>\n",
       "      <td>4,621</td>\n",
       "      <td>Discovered in the attic in which she spent the...</td>\n",
       "      <td>history</td>\n",
       "    </tr>\n",
       "  </tbody>\n",
       "</table>\n",
       "</div>"
      ],
      "text/plain": [
       "   Unnamed: 0                                              title  rating  \\\n",
       "0           0              Sapiens: A Brief History of Humankind    4.39   \n",
       "1           0              Sapiens: A Brief History of Humankind    4.39   \n",
       "2           2            A People's History of the United States    4.07   \n",
       "3           3  The Devil in the White City: Murder, Magic, an...    3.99   \n",
       "4           4                          The Diary of a Young Girl    4.18   \n",
       "\n",
       "                name num_ratings num_reviews num_followers  \\\n",
       "0  Yuval Noah Harari    8,06,229      46,149         30.5k   \n",
       "1  Yuval Noah Harari    8,06,229      46,149         30.5k   \n",
       "2        Howard Zinn    2,24,620       6,509         2,354   \n",
       "3        Erik Larson    6,13,157      36,644         64.2k   \n",
       "4         Anne Frank   33,13,033      35,591         4,621   \n",
       "\n",
       "                                            synopsis    genre  \n",
       "0  100,000 years ago, at least six human species ...  history  \n",
       "1  100,000 years ago, at least six human species ...  history  \n",
       "2  In the book, Zinn presented a different side o...  history  \n",
       "3  Author Erik Larson imbues the incredible event...  history  \n",
       "4  Discovered in the attic in which she spent the...  history  "
      ]
     },
     "execution_count": 67,
     "metadata": {},
     "output_type": "execute_result"
    }
   ],
   "source": [
    "df.head()"
   ]
  },
  {
   "cell_type": "code",
   "execution_count": 69,
   "id": "f50807b9-e8b2-45df-ae5a-2ff968043f15",
   "metadata": {},
   "outputs": [
    {
     "name": "stdout",
     "output_type": "stream",
     "text": [
      "Jumlah data duplicated setelah di drop :\n"
     ]
    },
    {
     "data": {
      "text/plain": [
       "0"
      ]
     },
     "execution_count": 69,
     "metadata": {},
     "output_type": "execute_result"
    }
   ],
   "source": [
    "df.drop_duplicates(inplace=True)\n",
    "\n",
    "hasil = df.reset_index(drop=True)\n",
    "print(\"Jumlah data duplicated setelah di drop :\")\n",
    "hasil.duplicated().sum()"
   ]
  },
  {
   "cell_type": "markdown",
   "id": "64c5d526-4171-40bd-8ce2-70311b65c126",
   "metadata": {},
   "source": [
    "***6. Ganti tipe data salah satu attribute angka***\n",
    "***"
   ]
  },
  {
   "cell_type": "code",
   "execution_count": 70,
   "id": "1a97d2c4-70dd-47a2-bdc5-275b11fa3b25",
   "metadata": {},
   "outputs": [
    {
     "name": "stdout",
     "output_type": "stream",
     "text": [
      "Tipe data rating Sebelum di ubah :\n"
     ]
    },
    {
     "data": {
      "text/plain": [
       "0       4.39\n",
       "2       4.07\n",
       "3       3.99\n",
       "4       4.18\n",
       "5       4.08\n",
       "        ... \n",
       "1534    4.09\n",
       "1535    4.15\n",
       "1536    4.25\n",
       "1537    4.26\n",
       "1538    4.03\n",
       "Name: rating, Length: 1538, dtype: float64"
      ]
     },
     "execution_count": 70,
     "metadata": {},
     "output_type": "execute_result"
    }
   ],
   "source": [
    "print(\"Tipe data rating Sebelum di ubah :\")\n",
    "df.rating"
   ]
  },
  {
   "cell_type": "markdown",
   "id": "8aac819a-8ceb-4487-85af-cb309cdde739",
   "metadata": {},
   "source": [
    "***7. Lakukan one hot encoding pada dataset yang***\n",
    "***"
   ]
  },
  {
   "cell_type": "code",
   "execution_count": 72,
   "id": "b039703b-82a8-450a-a360-863fe5bf4652",
   "metadata": {},
   "outputs": [
    {
     "name": "stderr",
     "output_type": "stream",
     "text": [
      "D:\\Kecerdasan Buatan\\venv_C2-21\\feby_137\\lib\\site-packages\\sklearn\\preprocessing\\_encoders.py:975: FutureWarning: `sparse` was renamed to `sparse_output` in version 1.2 and will be removed in 1.4. `sparse_output` is ignored unless you leave `sparse` to its default value.\n",
      "  warnings.warn(\n"
     ]
    },
    {
     "data": {
      "text/html": [
       "<div>\n",
       "<style scoped>\n",
       "    .dataframe tbody tr th:only-of-type {\n",
       "        vertical-align: middle;\n",
       "    }\n",
       "\n",
       "    .dataframe tbody tr th {\n",
       "        vertical-align: top;\n",
       "    }\n",
       "\n",
       "    .dataframe thead th {\n",
       "        text-align: right;\n",
       "    }\n",
       "</style>\n",
       "<table border=\"1\" class=\"dataframe\">\n",
       "  <thead>\n",
       "    <tr style=\"text-align: right;\">\n",
       "      <th></th>\n",
       "      <th>Unnamed: 0</th>\n",
       "      <th>title</th>\n",
       "      <th>rating</th>\n",
       "      <th>name</th>\n",
       "      <th>num_ratings</th>\n",
       "      <th>num_reviews</th>\n",
       "      <th>num_followers</th>\n",
       "      <th>synopsis</th>\n",
       "      <th>genre</th>\n",
       "      <th>0</th>\n",
       "      <th>1</th>\n",
       "      <th>2</th>\n",
       "      <th>3</th>\n",
       "      <th>4</th>\n",
       "      <th>5</th>\n",
       "      <th>6</th>\n",
       "      <th>7</th>\n",
       "      <th>8</th>\n",
       "      <th>9</th>\n",
       "    </tr>\n",
       "  </thead>\n",
       "  <tbody>\n",
       "    <tr>\n",
       "      <th>0</th>\n",
       "      <td>0</td>\n",
       "      <td>Sapiens: A Brief History of Humankind</td>\n",
       "      <td>4.39</td>\n",
       "      <td>Yuval Noah Harari</td>\n",
       "      <td>8,06,229</td>\n",
       "      <td>46,149</td>\n",
       "      <td>30.5k</td>\n",
       "      <td>100,000 years ago, at least six human species ...</td>\n",
       "      <td>history</td>\n",
       "      <td>0.0</td>\n",
       "      <td>1.0</td>\n",
       "      <td>0.0</td>\n",
       "      <td>0.0</td>\n",
       "      <td>0.0</td>\n",
       "      <td>0.0</td>\n",
       "      <td>0.0</td>\n",
       "      <td>0.0</td>\n",
       "      <td>0.0</td>\n",
       "      <td>0.0</td>\n",
       "    </tr>\n",
       "    <tr>\n",
       "      <th>2</th>\n",
       "      <td>2</td>\n",
       "      <td>A People's History of the United States</td>\n",
       "      <td>4.07</td>\n",
       "      <td>Howard Zinn</td>\n",
       "      <td>2,24,620</td>\n",
       "      <td>6,509</td>\n",
       "      <td>2,354</td>\n",
       "      <td>In the book, Zinn presented a different side o...</td>\n",
       "      <td>history</td>\n",
       "      <td>0.0</td>\n",
       "      <td>1.0</td>\n",
       "      <td>0.0</td>\n",
       "      <td>0.0</td>\n",
       "      <td>0.0</td>\n",
       "      <td>0.0</td>\n",
       "      <td>0.0</td>\n",
       "      <td>0.0</td>\n",
       "      <td>0.0</td>\n",
       "      <td>0.0</td>\n",
       "    </tr>\n",
       "    <tr>\n",
       "      <th>3</th>\n",
       "      <td>3</td>\n",
       "      <td>The Devil in the White City: Murder, Magic, an...</td>\n",
       "      <td>3.99</td>\n",
       "      <td>Erik Larson</td>\n",
       "      <td>6,13,157</td>\n",
       "      <td>36,644</td>\n",
       "      <td>64.2k</td>\n",
       "      <td>Author Erik Larson imbues the incredible event...</td>\n",
       "      <td>history</td>\n",
       "      <td>0.0</td>\n",
       "      <td>1.0</td>\n",
       "      <td>0.0</td>\n",
       "      <td>0.0</td>\n",
       "      <td>0.0</td>\n",
       "      <td>0.0</td>\n",
       "      <td>0.0</td>\n",
       "      <td>0.0</td>\n",
       "      <td>0.0</td>\n",
       "      <td>0.0</td>\n",
       "    </tr>\n",
       "    <tr>\n",
       "      <th>4</th>\n",
       "      <td>4</td>\n",
       "      <td>The Diary of a Young Girl</td>\n",
       "      <td>4.18</td>\n",
       "      <td>Anne Frank</td>\n",
       "      <td>33,13,033</td>\n",
       "      <td>35,591</td>\n",
       "      <td>4,621</td>\n",
       "      <td>Discovered in the attic in which she spent the...</td>\n",
       "      <td>history</td>\n",
       "      <td>0.0</td>\n",
       "      <td>1.0</td>\n",
       "      <td>0.0</td>\n",
       "      <td>0.0</td>\n",
       "      <td>0.0</td>\n",
       "      <td>0.0</td>\n",
       "      <td>0.0</td>\n",
       "      <td>0.0</td>\n",
       "      <td>0.0</td>\n",
       "      <td>0.0</td>\n",
       "    </tr>\n",
       "    <tr>\n",
       "      <th>5</th>\n",
       "      <td>5</td>\n",
       "      <td>1776</td>\n",
       "      <td>4.08</td>\n",
       "      <td>David McCullough</td>\n",
       "      <td>2,14,796</td>\n",
       "      <td>7,910</td>\n",
       "      <td>9,137</td>\n",
       "      <td>In this masterful book, David McCullough tells...</td>\n",
       "      <td>history</td>\n",
       "      <td>0.0</td>\n",
       "      <td>1.0</td>\n",
       "      <td>0.0</td>\n",
       "      <td>0.0</td>\n",
       "      <td>0.0</td>\n",
       "      <td>0.0</td>\n",
       "      <td>0.0</td>\n",
       "      <td>0.0</td>\n",
       "      <td>0.0</td>\n",
       "      <td>0.0</td>\n",
       "    </tr>\n",
       "  </tbody>\n",
       "</table>\n",
       "</div>"
      ],
      "text/plain": [
       "   Unnamed: 0                                              title  rating  \\\n",
       "0           0              Sapiens: A Brief History of Humankind    4.39   \n",
       "2           2            A People's History of the United States    4.07   \n",
       "3           3  The Devil in the White City: Murder, Magic, an...    3.99   \n",
       "4           4                          The Diary of a Young Girl    4.18   \n",
       "5           5                                               1776    4.08   \n",
       "\n",
       "                name num_ratings num_reviews num_followers  \\\n",
       "0  Yuval Noah Harari    8,06,229      46,149         30.5k   \n",
       "2        Howard Zinn    2,24,620       6,509         2,354   \n",
       "3        Erik Larson    6,13,157      36,644         64.2k   \n",
       "4         Anne Frank   33,13,033      35,591         4,621   \n",
       "5   David McCullough    2,14,796       7,910         9,137   \n",
       "\n",
       "                                            synopsis    genre    0    1    2  \\\n",
       "0  100,000 years ago, at least six human species ...  history  0.0  1.0  0.0   \n",
       "2  In the book, Zinn presented a different side o...  history  0.0  1.0  0.0   \n",
       "3  Author Erik Larson imbues the incredible event...  history  0.0  1.0  0.0   \n",
       "4  Discovered in the attic in which she spent the...  history  0.0  1.0  0.0   \n",
       "5  In this masterful book, David McCullough tells...  history  0.0  1.0  0.0   \n",
       "\n",
       "     3    4    5    6    7    8    9  \n",
       "0  0.0  0.0  0.0  0.0  0.0  0.0  0.0  \n",
       "2  0.0  0.0  0.0  0.0  0.0  0.0  0.0  \n",
       "3  0.0  0.0  0.0  0.0  0.0  0.0  0.0  \n",
       "4  0.0  0.0  0.0  0.0  0.0  0.0  0.0  \n",
       "5  0.0  0.0  0.0  0.0  0.0  0.0  0.0  "
      ]
     },
     "execution_count": 72,
     "metadata": {},
     "output_type": "execute_result"
    }
   ],
   "source": [
    "one_encoder = OneHotEncoder(sparse=False)\n",
    "\n",
    "onehot = one_encoder.fit_transform(df[[\"genre\"]])\n",
    "df_onehot = pd.DataFrame(onehot)\n",
    "df_encoder = df.join(df_onehot)\n",
    "df_encoder.head()"
   ]
  },
  {
   "cell_type": "code",
   "execution_count": null,
   "id": "87b26dd5-1d25-4f42-9b98-78516ccb19b9",
   "metadata": {},
   "outputs": [],
   "source": []
  }
 ],
 "metadata": {
  "kernelspec": {
   "display_name": "feby_137",
   "language": "python",
   "name": "feby_137"
  },
  "language_info": {
   "codemirror_mode": {
    "name": "ipython",
    "version": 3
   },
   "file_extension": ".py",
   "mimetype": "text/x-python",
   "name": "python",
   "nbconvert_exporter": "python",
   "pygments_lexer": "ipython3",
   "version": "3.10.7"
  }
 },
 "nbformat": 4,
 "nbformat_minor": 5
}
